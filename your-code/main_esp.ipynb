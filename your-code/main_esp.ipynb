{
 "cells": [
  {
   "cell_type": "markdown",
   "metadata": {},
   "source": [
    "# Antes de empezar:\n",
    "- Lee el archivo README.md\n",
    "- Comenta tanto como puedas y utiliza los recursos (archivo README.md)\n",
    "- ¡Feliz aprendizaje!"
   ]
  },
  {
   "cell_type": "code",
   "execution_count": 2,
   "metadata": {},
   "outputs": [],
   "source": [
    "# import numpy and pandas\n",
    "import pandas as pd\n",
    "import numpy as np\n",
    "from scipy.stats import trim_mean, mode, skew, gaussian_kde, pearsonr, spearmanr, beta\n",
    "from statsmodels.stats.weightstats import ztest as ztest\n",
    "\n",
    "from scipy.stats import ttest_ind, norm, t\n",
    "from scipy.stats import f_oneway\n",
    "from scipy.stats import sem"
   ]
  },
  {
   "cell_type": "markdown",
   "metadata": {},
   "source": [
    "# Reto 1 - Explorando los Datos\n",
    "\n",
    "En este reto, examinaremos todos los salarios de los empleados de la Ciudad de Chicago. Comenzaremos cargando el conjunto de datos y examinando su contenido."
   ]
  },
  {
   "cell_type": "code",
   "execution_count": 4,
   "metadata": {},
   "outputs": [],
   "source": [
    "# Run this code:\n",
    "salaries = pd.read_csv('../Data/Current_Employee_Names__Salaries__and_Position_Titles.csv')"
   ]
  },
  {
   "cell_type": "markdown",
   "metadata": {},
   "source": [
    "Examina el conjunto de datos `salaries` utilizando la función `head` que se muestra a continuación."
   ]
  },
  {
   "cell_type": "code",
   "execution_count": 5,
   "metadata": {},
   "outputs": [
    {
     "name": "stdout",
     "output_type": "stream",
     "text": [
      "                  Name                              Job Titles  \\\n",
      "0    AARON,  JEFFERY M                                SERGEANT   \n",
      "1      AARON,  KARINA   POLICE OFFICER (ASSIGNED AS DETECTIVE)   \n",
      "2  AARON,  KIMBERLEI R                CHIEF CONTRACT EXPEDITER   \n",
      "3  ABAD JR,  VICENTE M                       CIVIL ENGINEER IV   \n",
      "4    ABASCAL,  REECE E             TRAFFIC CONTROL AIDE-HOURLY   \n",
      "\n",
      "         Department Full or Part-Time Salary or Hourly  Typical Hours  \\\n",
      "0            POLICE                 F           Salary            NaN   \n",
      "1            POLICE                 F           Salary            NaN   \n",
      "2  GENERAL SERVICES                 F           Salary            NaN   \n",
      "3       WATER MGMNT                 F           Salary            NaN   \n",
      "4              OEMC                 P           Hourly           20.0   \n",
      "\n",
      "   Annual Salary  Hourly Rate  \n",
      "0       101442.0          NaN  \n",
      "1        94122.0          NaN  \n",
      "2       101592.0          NaN  \n",
      "3       110064.0          NaN  \n",
      "4            NaN        19.86  \n"
     ]
    }
   ],
   "source": [
    "# Your code here\n",
    "print(salaries.head())"
   ]
  },
  {
   "cell_type": "markdown",
   "metadata": {},
   "source": [
    "# Reto 2 - Pruebas de Hipótesis\n",
    "\n",
    "En esta sección del laboratorio, vamos a probar si el salario por hora de todos los trabajadores por hora es significativamente diferente de $30/hora. Importa la función correcta para la prueba de una muestra desde scipy y realiza la prueba de hipótesis para un intervalo de confianza de dos lados del 95%."
   ]
  },
  {
   "cell_type": "code",
   "execution_count": 6,
   "metadata": {},
   "outputs": [
    {
     "name": "stdout",
     "output_type": "stream",
     "text": [
      "T-statistic: 20.620\n",
      "P-value: 0.000\n",
      "Se rechaza la hipótesis nula: El salario por hora es significativamente diferente de $30/hora.\n"
     ]
    }
   ],
   "source": [
    "# Your code here\n",
    "# Importar la función ttest_1samp desde scipy.stats para la prueba t de una muestra\n",
    "from scipy.stats import ttest_1samp\n",
    "\n",
    "# Filtrar los datos para obtener solo los trabajadores por hora y que tienen salario por hora definido\n",
    "hourly_workers = salaries[(salaries['Salary or Hourly'] == 'Hourly') & (salaries['Hourly Rate'].notna())]\n",
    "\n",
    "# Realizar la prueba de hipótesis para una muestra\n",
    "# Hipótesis nula: El salario por hora promedio es igual a $30\n",
    "# Nivel de confianza del 95% (alpha = 0.05)\n",
    "t_statistic, p_value = ttest_1samp(hourly_workers['Hourly Rate'], 30)\n",
    "\n",
    "# Imprimir los resultados\n",
    "print(f\"T-statistic: {t_statistic:.3f}\")\n",
    "print(f\"P-value: {p_value:.3f}\")\n",
    "\n",
    "# Interpretar el resultado\n",
    "alpha = 0.05\n",
    "if p_value < alpha:\n",
    "    print(\"Se rechaza la hipótesis nula: El salario por hora es significativamente diferente de $30/hora.\")\n",
    "else:\n",
    "    print(\"No se puede rechazar la hipótesis nula: No hay suficiente evidencia para decir que el salario por hora es diferente de $30/hora.\")"
   ]
  },
  {
   "cell_type": "markdown",
   "metadata": {},
   "source": [
    "# Reto 3 - Construyendo Intervalos de Confianza\n",
    "\n",
    "Aunque probar nuestra hipótesis es una excelente manera de obtener evidencia empírica para aceptar o rechazar la hipótesis, otra forma de recopilar evidencia es creando un intervalo de confianza. Un intervalo de confianza nos brinda información sobre la media verdadera de la población. Por lo tanto, para un intervalo de confianza del 95%, estamos seguros en un 95% de que la media de la población se encuentra dentro del intervalo de confianza.\n",
    "\n",
    "Para leer más sobre los intervalos de confianza, haz clic [aquí](https://es.wikipedia.org/wiki/Intervalo_de_confianza).\n",
    "\n",
    "En la celda a continuación, construiremos un intervalo de confianza del 95% para el salario por hora medio de todos los trabajadores por hora.\n",
    "\n",
    "El intervalo de confianza se calcula en SciPy utilizando la función `t.interval`. Puedes leer más sobre esta función [aquí](https://docs.scipy.org/doc/scipy-0.14.0/reference/generated/scipy.stats.t.html).\n",
    "\n",
    "Para calcular el intervalo de confianza del salario por hora, usa 0.95 para el nivel de confianza, el número de filas - 1 para los grados de libertad, la media de la muestra para el parámetro de ubicación y el error estándar para la escala. El error estándar se puede calcular utilizando [esta](https://docs.scipy.org/doc/scipy/reference/generated/scipy.stats.sem.html) función en SciPy."
   ]
  },
  {
   "cell_type": "code",
   "execution_count": 7,
   "metadata": {},
   "outputs": [
    {
     "name": "stdout",
     "output_type": "stream",
     "text": [
      "Intervalo de Confianza del 95% para el Salario por Hora Medio:\n",
      "Lower Bound: 32.52\n",
      "Upper Bound: 33.05\n"
     ]
    }
   ],
   "source": [
    "# Your code here\n",
    "# Importar la función t para calcular intervalos de confianza\n",
    "from scipy.stats import t\n",
    "\n",
    "# Calcular la media y el error estándar del salario por hora\n",
    "mean_hourly_rate = hourly_workers['Hourly Rate'].mean()\n",
    "std_error_hourly_rate = hourly_workers['Hourly Rate'].sem()\n",
    "\n",
    "# Definir los grados de libertad\n",
    "# Usamos n-1 para los grados de libertad donde n es el número de observaciones\n",
    "degrees_freedom = len(hourly_workers) - 1\n",
    "\n",
    "# Calcular el intervalo de confianza del 95% para la media del salario por hora\n",
    "confidence_level = 0.95\n",
    "lower_bound, upper_bound = t.interval(confidence_level, df=degrees_freedom, loc=mean_hourly_rate, scale=std_error_hourly_rate)\n",
    "\n",
    "# Imprimir los resultados\n",
    "print(f\"Intervalo de Confianza del 95% para el Salario por Hora Medio:\")\n",
    "print(f\"Lower Bound: {lower_bound:.2f}\")\n",
    "print(f\"Upper Bound: {upper_bound:.2f}\")"
   ]
  },
  {
   "cell_type": "markdown",
   "metadata": {},
   "source": [
    "# Reto 4 - Pruebas de Hipótesis de Proporciones\n",
    "\n",
    "Otro tipo de prueba de una muestra es una prueba de hipótesis de proporciones. En esta prueba, examinamos si la proporción de un grupo en nuestra muestra es significativamente diferente de una fracción.\n",
    "\n",
    "Puedes leer más sobre las pruebas de proporción de una muestra [aquí](http://sphweb.bumc.bu.edu/otlt/MPH-Modules/BS/SAS/SAS6-CategoricalData/SAS6-CategoricalData2.html).\n",
    "\n",
    "En la celda a continuación, utiliza la función `proportions_ztest` de `statsmodels` para realizar una prueba de hipótesis que determinará si el número de trabajadores por hora en la Ciudad de Chicago es significativamente diferente del 25% en el nivel de confianza del 95%."
   ]
  },
  {
   "cell_type": "code",
   "execution_count": 8,
   "metadata": {},
   "outputs": [
    {
     "name": "stdout",
     "output_type": "stream",
     "text": [
      "Z-statistic: -3.510\n",
      "P-value: 0.000\n",
      "Se rechaza la hipótesis nula: La proporción de trabajadores por hora es significativamente diferente del 25%.\n"
     ]
    }
   ],
   "source": [
    "# Your code here\n",
    "# Importar la función proportions_ztest de statsmodels para la prueba de proporciones\n",
    "from statsmodels.stats.proportion import proportions_ztest\n",
    "\n",
    "# Contar el número de trabajadores por hora y el número total de empleados\n",
    "num_hourly_workers = len(hourly_workers)\n",
    "total_employees = len(salaries)\n",
    "\n",
    "# Definir la hipótesis nula y el nivel de confianza\n",
    "# Hipótesis nula: La proporción de trabajadores por hora es igual al 25%\n",
    "# Nivel de confianza del 95%\n",
    "h0_proportion = 0.25\n",
    "\n",
    "# Realizar la prueba de proporciones\n",
    "z_statistic, p_value = proportions_ztest(num_hourly_workers, total_employees, h0_proportion)\n",
    "\n",
    "# Imprimir los resultados\n",
    "print(f\"Z-statistic: {z_statistic:.3f}\")\n",
    "print(f\"P-value: {p_value:.3f}\")\n",
    "\n",
    "# Interpretar el resultado\n",
    "alpha = 0.05\n",
    "if p_value < alpha:\n",
    "    print(\"Se rechaza la hipótesis nula: La proporción de trabajadores por hora es significativamente diferente del 25%.\")\n",
    "else:\n",
    "    print(\"No se puede rechazar la hipótesis nula: No hay suficiente evidencia para decir que la proporción de trabajadores por hora es diferente del 25%.\")"
   ]
  }
 ],
 "metadata": {
  "kernelspec": {
   "display_name": "Python 3 (ipykernel)",
   "language": "python",
   "name": "python3"
  },
  "language_info": {
   "codemirror_mode": {
    "name": "ipython",
    "version": 3
   },
   "file_extension": ".py",
   "mimetype": "text/x-python",
   "name": "python",
   "nbconvert_exporter": "python",
   "pygments_lexer": "ipython3",
   "version": "3.12.4"
  }
 },
 "nbformat": 4,
 "nbformat_minor": 2
}
